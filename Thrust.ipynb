{
 "cells": [
  {
   "cell_type": "markdown",
   "id": "ee357937",
   "metadata": {},
   "source": [
    "Change in mass example - Thrust"
   ]
  },
  {
   "cell_type": "code",
   "execution_count": 1,
   "id": "1bd9641a",
   "metadata": {},
   "outputs": [],
   "source": [
    "import numpy as np\n",
    "import math"
   ]
  },
  {
   "cell_type": "code",
   "execution_count": 2,
   "id": "6d30e025",
   "metadata": {},
   "outputs": [],
   "source": [
    "M_i = 850 # initial mass in kg\n",
    "M_f = 180 # final mass (after all fuel has burnt)\n",
    "R = 2.3 # rate at which mass is changing in kg/s\n",
    "V_rel = 2800 # relative speed in m/s\n",
    "v_i = 0"
   ]
  },
  {
   "cell_type": "code",
   "execution_count": 3,
   "id": "81892fd2",
   "metadata": {},
   "outputs": [
    {
     "name": "stdout",
     "output_type": "stream",
     "text": [
      "The thrust the force rocket engine provides is 6440.000  newtons\n"
     ]
    }
   ],
   "source": [
    "Th = R * V_rel\n",
    "print('The thrust the force rocket engine provides is ' '%0.3f' %Th, ' newtons')"
   ]
  },
  {
   "cell_type": "code",
   "execution_count": 4,
   "id": "716fe6df",
   "metadata": {},
   "outputs": [
    {
     "name": "stdout",
     "output_type": "stream",
     "text": [
      "The initial acceleration of the rocket is 7.576  meters per squared second\n"
     ]
    }
   ],
   "source": [
    "a_i = Th /M_i \n",
    "print('The initial acceleration of the rocket is ' '%0.3f' %a_i, ' meters per squared second')"
   ]
  },
  {
   "cell_type": "code",
   "execution_count": 8,
   "id": "6633e393",
   "metadata": {},
   "outputs": [
    {
     "name": "stdout",
     "output_type": "stream",
     "text": [
      "The velocity of the rocket after all the fuel has been burnt is 4346.383 meters per second\n"
     ]
    }
   ],
   "source": [
    "v_f = v_i + V_rel*np.log(M_i/M_f)\n",
    "print('The velocity of the rocket after all the fuel has been burnt is ' '%0.3f' %v_f , 'meters per second')"
   ]
  },
  {
   "cell_type": "code",
   "execution_count": null,
   "id": "49d02dd4",
   "metadata": {},
   "outputs": [],
   "source": []
  }
 ],
 "metadata": {
  "kernelspec": {
   "display_name": "Python 3 (ipykernel)",
   "language": "python",
   "name": "python3"
  },
  "language_info": {
   "codemirror_mode": {
    "name": "ipython",
    "version": 3
   },
   "file_extension": ".py",
   "mimetype": "text/x-python",
   "name": "python",
   "nbconvert_exporter": "python",
   "pygments_lexer": "ipython3",
   "version": "3.10.9"
  }
 },
 "nbformat": 4,
 "nbformat_minor": 5
}
