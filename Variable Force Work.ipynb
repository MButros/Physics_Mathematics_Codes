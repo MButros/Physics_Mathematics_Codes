{
 "cells": [
  {
   "cell_type": "markdown",
   "id": "cd1d772d",
   "metadata": {},
   "source": [
    "Finding the work done by a non-constant force"
   ]
  },
  {
   "cell_type": "code",
   "execution_count": 1,
   "id": "f3e32944",
   "metadata": {},
   "outputs": [],
   "source": [
    "import math\n",
    "import numpy as np\n",
    "import scipy as sp\n",
    "from sympy import * "
   ]
  },
  {
   "cell_type": "markdown",
   "id": "f8d5708c",
   "metadata": {},
   "source": [
    "We want to find the work done by the function $F_1 = 3x^2$ from $x=2$ to $x=3$, and the function $F_2=4$ from $x=3$ to $x=0$."
   ]
  },
  {
   "cell_type": "markdown",
   "id": "ba7cf3ed",
   "metadata": {},
   "source": [
    "Define x as a symbol and then define the functions $F_1$ and $F_2$"
   ]
  },
  {
   "cell_type": "code",
   "execution_count": 6,
   "id": "c09e5714",
   "metadata": {},
   "outputs": [],
   "source": [
    "x = Symbol('x')\n",
    "F_1 = 3*x**2\n",
    "F_2 = 4"
   ]
  },
  {
   "cell_type": "markdown",
   "id": "e2cfec84",
   "metadata": {},
   "source": [
    "Integrate the functions above for the given intervals"
   ]
  },
  {
   "cell_type": "code",
   "execution_count": 9,
   "id": "5301b5c3",
   "metadata": {},
   "outputs": [],
   "source": [
    "W_1 = integrate(F_1,(x,2,3))\n",
    "W_2 = integrate(F_2,(x,3,0))"
   ]
  },
  {
   "cell_type": "code",
   "execution_count": 10,
   "id": "921319fd",
   "metadata": {},
   "outputs": [],
   "source": [
    "W_tot = W_1+W_2"
   ]
  },
  {
   "cell_type": "code",
   "execution_count": 11,
   "id": "33bcb4e0",
   "metadata": {},
   "outputs": [
    {
     "name": "stdout",
     "output_type": "stream",
     "text": [
      "The total wrk done is 7.000 joules\n"
     ]
    }
   ],
   "source": [
    "print('The total wrk done is ' '%0.3f' % W_tot, 'joules')"
   ]
  },
  {
   "cell_type": "code",
   "execution_count": null,
   "id": "70f0c26d",
   "metadata": {},
   "outputs": [],
   "source": []
  }
 ],
 "metadata": {
  "kernelspec": {
   "display_name": "Python 3 (ipykernel)",
   "language": "python",
   "name": "python3"
  },
  "language_info": {
   "codemirror_mode": {
    "name": "ipython",
    "version": 3
   },
   "file_extension": ".py",
   "mimetype": "text/x-python",
   "name": "python",
   "nbconvert_exporter": "python",
   "pygments_lexer": "ipython3",
   "version": "3.10.11"
  }
 },
 "nbformat": 4,
 "nbformat_minor": 5
}
