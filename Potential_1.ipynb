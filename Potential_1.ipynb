{
 "cells": [
  {
   "cell_type": "markdown",
   "id": "56825d4e",
   "metadata": {},
   "source": [
    "In this program we calculate the change in potential energy for different heights.\n",
    "\n",
    "Initialize some variables"
   ]
  },
  {
   "cell_type": "code",
   "execution_count": 1,
   "id": "fd9f44a5",
   "metadata": {},
   "outputs": [],
   "source": [
    "import math \n",
    "import numpy as np"
   ]
  },
  {
   "cell_type": "code",
   "execution_count": 2,
   "id": "a6438a45",
   "metadata": {},
   "outputs": [],
   "source": [
    "m = 2 # in kg\n",
    "y_1 = 5 # in meters.  this is the height of the object\n",
    "g = 9.8 # in m/s^2\n",
    "ref = np.array([0,3,5,6]) # these are the heights for the different U=0 points"
   ]
  },
  {
   "cell_type": "markdown",
   "id": "5da3a2ea",
   "metadata": {},
   "source": [
    "Calculate the potential energy at each of the reference points:"
   ]
  },
  {
   "cell_type": "code",
   "execution_count": 3,
   "id": "dcc7c9d5",
   "metadata": {},
   "outputs": [
    {
     "name": "stdout",
     "output_type": "stream",
     "text": [
      "The potential energy at  0 is 98.000 joules\n",
      "The potential energy at  3 is 39.200 joules\n",
      "The potential energy at  5 is 0.000 joules\n",
      "The potential energy at  6 is -19.600 joules\n"
     ]
    }
   ],
   "source": [
    "for x in ref :\n",
    "    U = m * g * (y_1-x)\n",
    "    print('The potential energy at ', x, 'is ' '%0.3f' % U, 'joules'  )"
   ]
  },
  {
   "cell_type": "markdown",
   "id": "938b7dbc",
   "metadata": {},
   "source": [
    "Now, we calculate the change in potential energy between two locations. \n",
    "\n",
    "NOTE: This change is independent of the reference point."
   ]
  },
  {
   "cell_type": "code",
   "execution_count": 4,
   "id": "01b8f36f",
   "metadata": {},
   "outputs": [
    {
     "name": "stdout",
     "output_type": "stream",
     "text": [
      "The change in potential energy is the same for all reference points, \n",
      " and is equal to -98.000 joules\n"
     ]
    }
   ],
   "source": [
    "y_2 = 0 \n",
    "deltaY = y_2-y_1 \n",
    "deltaU = m * g * (y_2-y_1)\n",
    "print('The change in potential energy is the same for all reference points, \\n and is equal to ' '%0.3f' %deltaU ,'joules')"
   ]
  }
 ],
 "metadata": {
  "kernelspec": {
   "display_name": "Python 3 (ipykernel)",
   "language": "python",
   "name": "python3"
  },
  "language_info": {
   "codemirror_mode": {
    "name": "ipython",
    "version": 3
   },
   "file_extension": ".py",
   "mimetype": "text/x-python",
   "name": "python",
   "nbconvert_exporter": "python",
   "pygments_lexer": "ipython3",
   "version": "3.10.9"
  }
 },
 "nbformat": 4,
 "nbformat_minor": 5
}
