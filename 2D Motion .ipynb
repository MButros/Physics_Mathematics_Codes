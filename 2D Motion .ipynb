{
 "cells": [
  {
   "cell_type": "markdown",
   "id": "33198ca7",
   "metadata": {},
   "source": [
    "In this notebook we will look at general 2-D motion problem under free fall conditions. First we will identify our initial position, velocity and angle of launch."
   ]
  },
  {
   "cell_type": "code",
   "execution_count": 1,
   "id": "7a2580a2",
   "metadata": {},
   "outputs": [],
   "source": [
    "import numpy as np\n",
    "import math\n",
    "from sympy import *\n",
    "init_printing(use_unicode = True)"
   ]
  },
  {
   "cell_type": "code",
   "execution_count": 2,
   "id": "d411feb5",
   "metadata": {},
   "outputs": [
    {
     "name": "stdout",
     "output_type": "stream",
     "text": [
      "Initial velocity is  4.0 meters per second\n",
      "Launch angle is  35.0 degress\n"
     ]
    }
   ],
   "source": [
    "x_i = 0.0\n",
    "y_i = 40.0\n",
    "v_i = 4.00 \n",
    "theta = 35.0 \n",
    "print('Initial velocity is ', v_i ,'meters per second')\n",
    "print('Launch angle is ', theta ,'degress')"
   ]
  },
  {
   "cell_type": "markdown",
   "id": "ab9afbe3",
   "metadata": {},
   "source": [
    "Now we can use some facts about motion in two dimensions that are useful:\n",
    "\n",
    "1. The acceleration in the x-direction is zero.\n",
    "2. The acceleration in the y-direction is -9.81 m/s$^2$."
   ]
  },
  {
   "cell_type": "code",
   "execution_count": 5,
   "id": "69c6f745",
   "metadata": {},
   "outputs": [
    {
     "name": "stdout",
     "output_type": "stream",
     "text": [
      "The acceleration in the x-direction is a_x = 0.000 meters per second squared\n",
      "The acceleration in the y-direction is a_y = -9.810 meters per second squared\n"
     ]
    }
   ],
   "source": [
    "a_x = 0 \n",
    "a_y = -9.81 \n",
    "print('The acceleration in the x-direction is a_x = ' '%0.3f' %  a_x, 'meters per second squared')\n",
    "print('The acceleration in the y-direction is a_y = ' '%0.3f' % a_y, 'meters per second squared')"
   ]
  },
  {
   "cell_type": "markdown",
   "id": "8e8e308d",
   "metadata": {},
   "source": [
    "Let us find the horizontal and vertical components of the velocity"
   ]
  },
  {
   "cell_type": "code",
   "execution_count": 6,
   "id": "20c15d56",
   "metadata": {},
   "outputs": [
    {
     "name": "stdout",
     "output_type": "stream",
     "text": [
      "The initial condition in the x-direction is v_ix = 3.277 meters per second\n",
      "The initial condition in the y-direction is v_iy = 2.294 meters per second\n"
     ]
    }
   ],
   "source": [
    "v_ix = v_i*np.cos(theta*np.pi/180)\n",
    "v_iy = v_i*np.sin(theta*np.pi/180)\n",
    "print('The initial condition in the x-direction is v_ix = ' '%0.3f' % v_ix, 'meters per second')\n",
    "print('The initial condition in the y-direction is v_iy = ' '%0.3f' % v_iy, 'meters per second')"
   ]
  },
  {
   "cell_type": "markdown",
   "id": "a6007c92",
   "metadata": {},
   "source": [
    "The time it takes the object to reach the maximum height and the maximum height of the projectile"
   ]
  },
  {
   "cell_type": "code",
   "execution_count": 7,
   "id": "8b0313e5",
   "metadata": {},
   "outputs": [
    {
     "name": "stdout",
     "output_type": "stream",
     "text": [
      "The time it takes to reach the maximum height is t_max = 0.234 seconds\n",
      "The maximum height reached by the object is y_max = 40.268 meters\n"
     ]
    }
   ],
   "source": [
    "t_max = (-v_iy/a_y)\n",
    "print('The time it takes to reach the maximum height is t_max = ' '%0.3f' % t_max, 'seconds') \n",
    "y_max = (y_i) + (v_iy*t_max)+(0.5*a_y*t_max**2)\n",
    "print('The maximum height reached by the object is y_max = ' '%0.3f' % y_max, 'meters')"
   ]
  },
  {
   "cell_type": "markdown",
   "id": "00697046",
   "metadata": {},
   "source": [
    "The time it takes for the object to hit the ground, the horizontal distance before hitting the ground and the final velocity when the object hits the ground"
   ]
  },
  {
   "cell_type": "code",
   "execution_count": 12,
   "id": "fd1de3c7",
   "metadata": {},
   "outputs": [
    {
     "name": "stdout",
     "output_type": "stream",
     "text": [
      "Potential times it takes to hit the ground\n",
      "time 1 = 3.099 seconds and time 2 = -2.631  seconds\n",
      "remember we need for the time to be positive\n"
     ]
    }
   ],
   "source": [
    "t_f1 = (-v_iy - np.sqrt(v_iy**2+2*a_y*(-y_i)))/(a_y)\n",
    "t_f2 = (-v_iy + np.sqrt(v_iy**2+2*a_y*(-y_i)))/(a_y)\n",
    "print('Potential times it takes to hit the ground')\n",
    "print('time 1 = ' '%0.3f' % t_f1, 'seconds and time 2 = ' '%0.3f' % t_f2,' seconds')\n",
    "print('remember we need for the time to be positive')"
   ]
  },
  {
   "cell_type": "markdown",
   "id": "61f6f985",
   "metadata": {},
   "source": [
    "Therefore, we only accept the first time (positive) $t=3.099$ seconds."
   ]
  },
  {
   "cell_type": "code",
   "execution_count": 18,
   "id": "13e08ac6",
   "metadata": {},
   "outputs": [
    {
     "name": "stdout",
     "output_type": "stream",
     "text": [
      "The horizontal range of the object before hitting the group is: 10.155 meters\n",
      "The final velocity of the object when it hits the ground is: 28.298 meters per second downward\n"
     ]
    }
   ],
   "source": [
    "t_f = t_f1 # because t_f1 is positive\n",
    "\n",
    "Range = v_ix * t_f \n",
    "print('The horizontal range of the object before hitting the group is: ' '%0.3f' %  Range, 'meters')\n",
    "v_fx = v_ix\n",
    "v_fy = v_iy +a_y*t_f\n",
    "\n",
    "v_f = np.sqrt(v_ix**2+v_fy**2)\n",
    "print('The final velocity of the object when it hits the ground is: ' '%0.3f' % v_f, 'meters per second downward')"
   ]
  },
  {
   "cell_type": "code",
   "execution_count": null,
   "id": "452e323c",
   "metadata": {},
   "outputs": [],
   "source": []
  }
 ],
 "metadata": {
  "kernelspec": {
   "display_name": "Python 3 (ipykernel)",
   "language": "python",
   "name": "python3"
  },
  "language_info": {
   "codemirror_mode": {
    "name": "ipython",
    "version": 3
   },
   "file_extension": ".py",
   "mimetype": "text/x-python",
   "name": "python",
   "nbconvert_exporter": "python",
   "pygments_lexer": "ipython3",
   "version": "3.10.9"
  }
 },
 "nbformat": 4,
 "nbformat_minor": 5
}
