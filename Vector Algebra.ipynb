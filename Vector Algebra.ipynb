{
 "cells": [
  {
   "cell_type": "markdown",
   "id": "343b8567",
   "metadata": {},
   "source": [
    "In this notebook we will demonstrate some vector algebra addition, subtraction, and multiplying by a scalar."
   ]
  },
  {
   "cell_type": "code",
   "execution_count": 1,
   "id": "39aa0614",
   "metadata": {},
   "outputs": [],
   "source": [
    "import numpy as np"
   ]
  },
  {
   "cell_type": "markdown",
   "id": "ab72686a",
   "metadata": {},
   "source": [
    "Let us define our vectors in component form"
   ]
  },
  {
   "cell_type": "code",
   "execution_count": 2,
   "id": "22c8bb78",
   "metadata": {},
   "outputs": [
    {
     "name": "stdout",
     "output_type": "stream",
     "text": [
      "Vector D =  [ 6.  3. -1.]\n",
      "Vector E =  [ 4. -5.  8.]\n"
     ]
    }
   ],
   "source": [
    "Vec_D = np.array([6.00, 3.00, -1.00])\n",
    "Vec_E = np.array([4.00, -5.00, 8.00])\n",
    "print('Vector D = ', Vec_D)\n",
    "print('Vector E = ', Vec_E)"
   ]
  },
  {
   "cell_type": "markdown",
   "id": "d1c491db",
   "metadata": {},
   "source": [
    "We need to compute the vector given by 2D-E. \n",
    "\n",
    "Let us start by giving that vector a name. Say, vector F.\n",
    "\n",
    "First let's multiply vector D by 2."
   ]
  },
  {
   "cell_type": "code",
   "execution_count": 3,
   "id": "fb03646a",
   "metadata": {},
   "outputs": [
    {
     "name": "stdout",
     "output_type": "stream",
     "text": [
      "Vector 2D =  [12.  6. -2.]\n"
     ]
    }
   ],
   "source": [
    "Vec_2D = 2*Vec_D\n",
    "print('Vector 2D = ', Vec_2D)"
   ]
  },
  {
   "cell_type": "markdown",
   "id": "b9cf89ed",
   "metadata": {},
   "source": [
    "Next, let us subtract vector E from vector 2D and set the answer to vector F"
   ]
  },
  {
   "cell_type": "code",
   "execution_count": 5,
   "id": "b2dfe7fe",
   "metadata": {},
   "outputs": [
    {
     "name": "stdout",
     "output_type": "stream",
     "text": [
      "The vector given by 2D-E is \n",
      "Vector F =  [  8.  11. -10.]\n"
     ]
    }
   ],
   "source": [
    "Vec_F = Vec_2D - Vec_E\n",
    "print('The vector given by 2D-E is ')\n",
    "print('Vector F = ', Vec_F)"
   ]
  },
  {
   "cell_type": "code",
   "execution_count": null,
   "id": "1f7b1bd1",
   "metadata": {},
   "outputs": [],
   "source": []
  }
 ],
 "metadata": {
  "kernelspec": {
   "display_name": "Python 3 (ipykernel)",
   "language": "python",
   "name": "python3"
  },
  "language_info": {
   "codemirror_mode": {
    "name": "ipython",
    "version": 3
   },
   "file_extension": ".py",
   "mimetype": "text/x-python",
   "name": "python",
   "nbconvert_exporter": "python",
   "pygments_lexer": "ipython3",
   "version": "3.10.9"
  }
 },
 "nbformat": 4,
 "nbformat_minor": 5
}
