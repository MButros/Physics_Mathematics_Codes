{
 "cells": [
  {
   "cell_type": "markdown",
   "id": "65119672",
   "metadata": {},
   "source": [
    "In this notebook we will find the inverse of a matrix and multiply two matrices. *NOTE: It is important to keep in mind that when multiplying two matrices the number of columns of the first matrix needs to be equal to the number of rows of the second matrix. For example, if A is a $1\\times 3$ matrix and B is a $3 \\times 4$ matrix we can find A times B but not B times A."
   ]
  },
  {
   "cell_type": "code",
   "execution_count": 1,
   "id": "579d0691",
   "metadata": {},
   "outputs": [
    {
     "name": "stdout",
     "output_type": "stream",
     "text": [
      "A = \n",
      "[[ 6  1  1]\n",
      " [ 4 -2  5]\n",
      " [ 2  8  7]]\n",
      "The inverse of matrix A =\n",
      "[[ 0.17647059 -0.00326797 -0.02287582]\n",
      " [ 0.05882353 -0.13071895  0.08496732]\n",
      " [-0.11764706  0.1503268   0.05228758]]\n"
     ]
    }
   ],
   "source": [
    "import numpy as np\n",
    "  \n",
    "# Taking a 3 * 3 matrix\n",
    "A = np.array([[6, 1, 1],\n",
    "              [4, -2, 5],\n",
    "              [2, 8, 7]])\n",
    "print('A = ')\n",
    "print(A)  \n",
    "# Calculating the inverse of the matrix\n",
    "print('The inverse of matrix A =')\n",
    "B = np.linalg.inv(A)\n",
    "print(B)"
   ]
  },
  {
   "cell_type": "code",
   "execution_count": 2,
   "id": "28ae29b8",
   "metadata": {},
   "outputs": [
    {
     "name": "stdout",
     "output_type": "stream",
     "text": [
      "C = \n",
      "[[3 4 5]\n",
      " [6 7 8]]\n",
      "D = \n",
      "[[ 1  2  3  0]\n",
      " [ 9  8  7 -1]\n",
      " [-1  0  2  3]]\n",
      "The product of matrix C and matrix D is \n",
      "[[34 38 47 11]\n",
      " [61 68 83 17]]\n"
     ]
    }
   ],
   "source": [
    "C = np.array([[3,4,5],[6,7,8]])\n",
    "print('C = ')\n",
    "print(C)\n",
    "D = np.array([[1,2,3,0], [9,8,7,-1], [-1,0,2,3]])\n",
    "print('D = ')\n",
    "print(D)\n",
    "Product = np.dot(C,D)\n",
    "print('The product of matrix C and matrix D is ')\n",
    "print(Product)"
   ]
  },
  {
   "cell_type": "code",
   "execution_count": null,
   "id": "0c9eaec4",
   "metadata": {},
   "outputs": [],
   "source": []
  }
 ],
 "metadata": {
  "kernelspec": {
   "display_name": "Python 3 (ipykernel)",
   "language": "python",
   "name": "python3"
  },
  "language_info": {
   "codemirror_mode": {
    "name": "ipython",
    "version": 3
   },
   "file_extension": ".py",
   "mimetype": "text/x-python",
   "name": "python",
   "nbconvert_exporter": "python",
   "pygments_lexer": "ipython3",
   "version": "3.10.9"
  }
 },
 "nbformat": 4,
 "nbformat_minor": 5
}
