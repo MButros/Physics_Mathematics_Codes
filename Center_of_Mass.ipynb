{
 "cells": [
  {
   "attachments": {},
   "cell_type": "markdown",
   "id": "22a6ec79",
   "metadata": {},
   "source": [
    "Example of finding the center of mass of masses at different locations \n",
    "\n",
    "Load some needed libraries, and initialize some variables"
   ]
  },
  {
   "cell_type": "code",
   "execution_count": 1,
   "id": "2b31b6bf",
   "metadata": {},
   "outputs": [],
   "source": [
    "import numpy as np\n",
    "import math\n",
    "\n",
    "m1 = 1.2 # in kg \n",
    "m2 = 2.5 # in kg\n",
    "m3 = 3.4 # in kg\n",
    "a = 140 # in cm\n",
    "\n",
    "r1 = np.array([0,0])\n",
    "r2 = np.array([a,0])\n",
    "r3 = np.array([a*np.cos(60*np.pi/180), a*np.sin(60*np.pi/180)])"
   ]
  },
  {
   "attachments": {},
   "cell_type": "markdown",
   "id": "6641b3c4",
   "metadata": {},
   "source": [
    "Calculate the center of mass"
   ]
  },
  {
   "cell_type": "code",
   "execution_count": 2,
   "id": "ad2ad446",
   "metadata": {},
   "outputs": [
    {
     "name": "stdout",
     "output_type": "stream",
     "text": [
      "The x component of the center of mass is 82.817  cm \n",
      "The y component of the center of mass is 58.060  cm \n"
     ]
    }
   ],
   "source": [
    "R_cm = (m1*r1 + m2*r2 + m3*r3)/(m1+m2+m3)\n",
    "print('The x component of the center of mass is ' '%0.3f'  % R_cm[0], ' cm ')\n",
    "print('The y component of the center of mass is ' '%0.3f'  % R_cm[1], ' cm ')"
   ]
  },
  {
   "cell_type": "code",
   "execution_count": null,
   "id": "ba21aa39",
   "metadata": {},
   "outputs": [],
   "source": []
  }
 ],
 "metadata": {
  "kernelspec": {
   "display_name": "Python 3 (ipykernel)",
   "language": "python",
   "name": "python3"
  },
  "language_info": {
   "codemirror_mode": {
    "name": "ipython",
    "version": 3
   },
   "file_extension": ".py",
   "mimetype": "text/x-python",
   "name": "python",
   "nbconvert_exporter": "python",
   "pygments_lexer": "ipython3",
   "version": "3.10.9"
  }
 },
 "nbformat": 4,
 "nbformat_minor": 5
}
