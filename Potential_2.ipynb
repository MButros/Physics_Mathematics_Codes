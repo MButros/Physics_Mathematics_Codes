{
 "cells": [
  {
   "cell_type": "markdown",
   "id": "a59de788",
   "metadata": {},
   "source": [
    "This example solve a work problem with thermal energy (friction) involved"
   ]
  },
  {
   "cell_type": "code",
   "execution_count": 1,
   "id": "4cafb4ae",
   "metadata": {},
   "outputs": [],
   "source": [
    "import math \n",
    "import numpy as np"
   ]
  },
  {
   "cell_type": "markdown",
   "id": "e4576f36",
   "metadata": {},
   "source": [
    "Initialize some variables"
   ]
  },
  {
   "cell_type": "code",
   "execution_count": 2,
   "id": "8f0ed864",
   "metadata": {},
   "outputs": [],
   "source": [
    "m = 14 # in kg\n",
    "F = 40 # in N\n",
    "d = 0.5 # in m \n",
    "v_0 = 0.60 # in m/s\n",
    "v_f = 0.20 # in m/s"
   ]
  },
  {
   "cell_type": "markdown",
   "id": "a511a8c9",
   "metadata": {},
   "source": [
    "Calculate the work done"
   ]
  },
  {
   "cell_type": "code",
   "execution_count": 3,
   "id": "0a1bf536",
   "metadata": {},
   "outputs": [
    {
     "name": "stdout",
     "output_type": "stream",
     "text": [
      "The work done by the force F is 20.000  joules\n"
     ]
    }
   ],
   "source": [
    "W = F * d \n",
    "print('The work done by the force F is ' '%0.3f' % W ,' joules' )"
   ]
  },
  {
   "cell_type": "markdown",
   "id": "5f026ac3",
   "metadata": {},
   "source": [
    "Use Work Energy Theorem to find thermal energy.  This is equal to the decrease in kinetic energy and work done by the force F\n",
    "$$T_E =  \\Delta W + \\Delta KE $$"
   ]
  },
  {
   "cell_type": "code",
   "execution_count": 4,
   "id": "7ac7483b",
   "metadata": {},
   "outputs": [],
   "source": [
    "T_E = W - 0.5*m*(v_0**2-v_f**2)"
   ]
  },
  {
   "cell_type": "code",
   "execution_count": 5,
   "id": "60be9d85",
   "metadata": {},
   "outputs": [
    {
     "name": "stdout",
     "output_type": "stream",
     "text": [
      "The change in thermal energy is 17.760 joules\n"
     ]
    }
   ],
   "source": [
    "print('The change in thermal energy is ' '%0.3f' %T_E, 'joules')"
   ]
  }
 ],
 "metadata": {
  "kernelspec": {
   "display_name": "Python 3 (ipykernel)",
   "language": "python",
   "name": "python3"
  },
  "language_info": {
   "codemirror_mode": {
    "name": "ipython",
    "version": 3
   },
   "file_extension": ".py",
   "mimetype": "text/x-python",
   "name": "python",
   "nbconvert_exporter": "python",
   "pygments_lexer": "ipython3",
   "version": "3.10.9"
  }
 },
 "nbformat": 4,
 "nbformat_minor": 5
}
