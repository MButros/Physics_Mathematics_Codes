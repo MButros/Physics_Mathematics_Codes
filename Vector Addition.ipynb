{
 "cells": [
  {
   "cell_type": "markdown",
   "id": "9349af4d",
   "metadata": {},
   "source": [
    "In this notebook we will compute the components of different vectors and then find the resultant vector.\n",
    "\n",
    "We start by defining our three vectors\n",
    "\n",
    "            A = 72.4 m, 32.0 degrees east of north (which is 58 degrees from +x axis)\n",
    "\n",
    "            B = 57.3 m, 36.0 degrees south of west (which is 216 degrees from +x-axis)\n",
    "\n",
    "            C = 17.8 due south (which is 270 degrees from +x-axis)\n",
    "\n",
    "Now, we define our vectors and we break the vectors into their components. NOTE: the default setting for trigonometric function in Jupyter is radians, so we will have to change the angles to radians before we calculate the components.\n",
    "\n",
    "We will have to import the numpy library in order to use trigonometric functions and the constant value of $\\pi$."
   ]
  },
  {
   "cell_type": "markdown",
   "id": "a47f8c8e",
   "metadata": {},
   "source": [
    "Components of vector $\\textbf{A}$"
   ]
  },
  {
   "cell_type": "code",
   "execution_count": 1,
   "id": "c60ca857",
   "metadata": {},
   "outputs": [
    {
     "name": "stdout",
     "output_type": "stream",
     "text": [
      "A_x = 38.366\n",
      "A_y = 61.399\n"
     ]
    }
   ],
   "source": [
    "import numpy as np\n",
    "\n",
    "A = 72.4\n",
    "theta_A = 58*np.pi/180 #changing the angle to radians\n",
    "A_x = A * np.cos(theta_A)\n",
    "A_y = A * np.sin(theta_A)\n",
    "print('A_x = ' '%0.3f' % A_x)\n",
    "print('A_y = ' '%0.3f' % A_y)"
   ]
  },
  {
   "cell_type": "markdown",
   "id": "abedad8f",
   "metadata": {},
   "source": [
    "Components of vector $\\textbf{B}$"
   ]
  },
  {
   "cell_type": "code",
   "execution_count": 2,
   "id": "f997ce4b",
   "metadata": {},
   "outputs": [
    {
     "name": "stdout",
     "output_type": "stream",
     "text": [
      "B_x = -46.357\n",
      "B_y = -33.680\n"
     ]
    }
   ],
   "source": [
    "B = 57.3 \n",
    "theta_B = 216*np.pi/180\n",
    "B_x = B * np.cos(theta_B)\n",
    "B_y = B * np.sin(theta_B)\n",
    "print('B_x = ' '%0.3f' % B_x)\n",
    "print('B_y = ' '%0.3f' % B_y)"
   ]
  },
  {
   "cell_type": "markdown",
   "id": "a4005f9a",
   "metadata": {},
   "source": [
    "Components of vector $\\textbf{C}$"
   ]
  },
  {
   "cell_type": "code",
   "execution_count": 3,
   "id": "8a5f39f2",
   "metadata": {},
   "outputs": [
    {
     "name": "stdout",
     "output_type": "stream",
     "text": [
      "C_x = -0.000\n",
      "C_y = -17.800\n"
     ]
    }
   ],
   "source": [
    "C = 17.8\n",
    "theta_C = 270*np.pi/180\n",
    "C_x = C * np.cos(theta_C)\n",
    "C_y = C * np.sin(theta_C)\n",
    "print('C_x = ' '%0.3f' % C_x)\n",
    "print('C_y = ' '%0.3f' % C_y)"
   ]
  },
  {
   "cell_type": "markdown",
   "id": "ddcccb15",
   "metadata": {},
   "source": [
    "Now we find the components of the resultant vector $\\textbf{R}$"
   ]
  },
  {
   "cell_type": "code",
   "execution_count": 4,
   "id": "9d3006f0",
   "metadata": {},
   "outputs": [
    {
     "name": "stdout",
     "output_type": "stream",
     "text": [
      "R_x = -7.991\n",
      "R_y = 9.919\n"
     ]
    }
   ],
   "source": [
    "R_x = A_x + B_x + C_x\n",
    "print('R_x = ' '%0.3f' % R_x)\n",
    "R_y = A_y + B_y + C_y\n",
    "print('R_y = ' '%0.3f' %R_y)"
   ]
  },
  {
   "cell_type": "markdown",
   "id": "0a82f501",
   "metadata": {},
   "source": [
    "Now we find the magnitude and direction of the resultant vector.\n",
    "NOTE: the arctan function will give the answer as a radian so we will have to change the answer to degrees."
   ]
  },
  {
   "cell_type": "code",
   "execution_count": 7,
   "id": "77876822",
   "metadata": {},
   "outputs": [
    {
     "name": "stdout",
     "output_type": "stream",
     "text": [
      "The magnitude of the resultant vector is\n",
      "R = 12.737\n",
      "The angle of the resultant vector is\n",
      "theta_R = -51.145\n"
     ]
    }
   ],
   "source": [
    "R = np.sqrt(R_x**2+R_y**2)\n",
    "print('The magnitude of the resultant vector is')\n",
    "print('R = ' '%0.3f' % R)\n",
    "\n",
    "theta_R =np.arctan(R_y/R_x)*180/np.pi\n",
    "print('The angle of the resultant vector is')\n",
    "print('theta_R = ' '%0.3f' % theta_R)"
   ]
  },
  {
   "cell_type": "code",
   "execution_count": null,
   "id": "14d47f3f",
   "metadata": {},
   "outputs": [],
   "source": []
  }
 ],
 "metadata": {
  "kernelspec": {
   "display_name": "Python 3 (ipykernel)",
   "language": "python",
   "name": "python3"
  },
  "language_info": {
   "codemirror_mode": {
    "name": "ipython",
    "version": 3
   },
   "file_extension": ".py",
   "mimetype": "text/x-python",
   "name": "python",
   "nbconvert_exporter": "python",
   "pygments_lexer": "ipython3",
   "version": "3.10.9"
  }
 },
 "nbformat": 4,
 "nbformat_minor": 5
}
