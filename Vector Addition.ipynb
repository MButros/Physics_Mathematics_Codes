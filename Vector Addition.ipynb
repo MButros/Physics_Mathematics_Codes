{
 "cells": [
  {
   "attachments": {},
   "cell_type": "markdown",
   "metadata": {},
   "source": [
    "In this notebook we will compute the components of different vectors and then find the resultant vector.\n",
    "\n",
    "We start by defining our three vectors\n",
    "\n",
    "            A = 72.4$ m, 32.0 degrees east of north (which is 58 degrees from +x axis)\n",
    "\n",
    "            B = 57.3 m, 36.0 degrees south of west (which is 216 degrees from +x-axis)\n",
    "\n",
    "            C = 17.8 due south (which is 270 degrees from +x-axis)\n",
    "\n",
    "Now, we define our vectors and we break the vectors into their components. NOTE: the default setting for trigonometric function in Jupyter is radians, so we will have to change the angles to radians before we calculate the components.\n",
    "\n",
    "We will have to import the numpy library in order to use trigonometric functions and the constant value of $\\pi$."
   ]
  },
  {
   "cell_type": "code",
   "execution_count": 5,
   "metadata": {},
   "outputs": [
    {
     "ename": "ModuleNotFoundError",
     "evalue": "No module named 'numpy'",
     "output_type": "error",
     "traceback": [
      "\u001b[0;31m---------------------------------------------------------------------------\u001b[0m",
      "\u001b[0;31mModuleNotFoundError\u001b[0m                       Traceback (most recent call last)",
      "Cell \u001b[0;32mIn[5], line 1\u001b[0m\n\u001b[0;32m----> 1\u001b[0m \u001b[39mimport\u001b[39;00m \u001b[39mnumpy\u001b[39;00m \u001b[39mas\u001b[39;00m \u001b[39mnp\u001b[39;00m\n",
      "\u001b[0;31mModuleNotFoundError\u001b[0m: No module named 'numpy'"
     ]
    }
   ],
   "source": [
    "import numpy as np"
   ]
  },
  {
   "attachments": {},
   "cell_type": "markdown",
   "metadata": {},
   "source": [
    "Componets of vector $\\textbf{A}$"
   ]
  },
  {
   "cell_type": "code",
   "execution_count": null,
   "metadata": {},
   "outputs": [],
   "source": [
    "A = 72.4\n",
    "theta_A = 58*np.pi/180 #changing the angle to radians\n",
    "A_x = A * np.cos(theta_A)\n",
    "A_y = A * np.sin(theta_A)\n",
    "print('A_x = ',A_x)\n",
    "print('A_y = ',A_y)"
   ]
  }
 ],
 "metadata": {
  "kernelspec": {
   "display_name": "Python 3",
   "language": "python",
   "name": "python3"
  },
  "language_info": {
   "codemirror_mode": {
    "name": "ipython",
    "version": 3
   },
   "file_extension": ".py",
   "mimetype": "text/x-python",
   "name": "python",
   "nbconvert_exporter": "python",
   "pygments_lexer": "ipython3",
   "version": "3.9.2"
  },
  "orig_nbformat": 4
 },
 "nbformat": 4,
 "nbformat_minor": 2
}
