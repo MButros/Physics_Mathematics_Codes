{
 "cells": [
  {
   "cell_type": "markdown",
   "id": "a486a4e8",
   "metadata": {},
   "source": [
    "Find the work done by a vector force for a vector displacement"
   ]
  },
  {
   "cell_type": "markdown",
   "id": "ff380b83",
   "metadata": {},
   "source": [
    "Initialize some variables \n"
   ]
  },
  {
   "cell_type": "code",
   "execution_count": 1,
   "id": "d8332623",
   "metadata": {},
   "outputs": [],
   "source": [
    "import math\n",
    "import numpy as np"
   ]
  },
  {
   "cell_type": "code",
   "execution_count": 2,
   "id": "0cbc6434",
   "metadata": {},
   "outputs": [],
   "source": [
    "disp = np.array([-3, 0]) # in m\n",
    "F = np.array([2,-6]) # in N"
   ]
  },
  {
   "cell_type": "markdown",
   "id": "51c6e5d2",
   "metadata": {},
   "source": [
    "Calculate the work"
   ]
  },
  {
   "cell_type": "code",
   "execution_count": 3,
   "id": "3d94d55a",
   "metadata": {},
   "outputs": [],
   "source": [
    "W = np.dot(F,disp)"
   ]
  },
  {
   "cell_type": "code",
   "execution_count": 4,
   "id": "82685544",
   "metadata": {},
   "outputs": [
    {
     "name": "stdout",
     "output_type": "stream",
     "text": [
      "The work done is -6.000 joules\n"
     ]
    }
   ],
   "source": [
    "print('The work done is ' '%0.3f' % W, 'joules')"
   ]
  },
  {
   "cell_type": "markdown",
   "id": "9f759832",
   "metadata": {},
   "source": [
    "Applying the work-energy theorem with $K_i=10$ J"
   ]
  },
  {
   "cell_type": "code",
   "execution_count": 7,
   "id": "577b42d7",
   "metadata": {},
   "outputs": [],
   "source": [
    "K_i = 10 # in J\n",
    "K_f = W + K_i"
   ]
  },
  {
   "cell_type": "code",
   "execution_count": 8,
   "id": "79f0847b",
   "metadata": {},
   "outputs": [
    {
     "name": "stdout",
     "output_type": "stream",
     "text": [
      "The final kinetic energy is 4.000 joules\n"
     ]
    }
   ],
   "source": [
    "print('The final kinetic energy is ' '%0.3f' % K_f,'joules')"
   ]
  },
  {
   "cell_type": "code",
   "execution_count": null,
   "id": "8cdb0ab9",
   "metadata": {},
   "outputs": [],
   "source": []
  }
 ],
 "metadata": {
  "kernelspec": {
   "display_name": "Python 3 (ipykernel)",
   "language": "python",
   "name": "python3"
  },
  "language_info": {
   "codemirror_mode": {
    "name": "ipython",
    "version": 3
   },
   "file_extension": ".py",
   "mimetype": "text/x-python",
   "name": "python",
   "nbconvert_exporter": "python",
   "pygments_lexer": "ipython3",
   "version": "3.10.11"
  }
 },
 "nbformat": 4,
 "nbformat_minor": 5
}
