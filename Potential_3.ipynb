{
 "cells": [
  {
   "cell_type": "markdown",
   "id": "2db5417a",
   "metadata": {},
   "source": [
    "This example show the concept of conservation of energy\n",
    "\n",
    "Initialize some variables"
   ]
  },
  {
   "cell_type": "code",
   "execution_count": 4,
   "id": "8355ebb9",
   "metadata": {},
   "outputs": [],
   "source": [
    "m = 6.0 # in kg\n",
    "v_0 = 7.8 # in m/s\n",
    "v_f = 0.0\n",
    "y_0 = 8.5 # in m\n",
    "y_f = 11.1 # in m\n",
    "g = 9.8 # in m/s^2"
   ]
  },
  {
   "cell_type": "markdown",
   "id": "03ecbf51",
   "metadata": {},
   "source": [
    "Initial mechanical energy"
   ]
  },
  {
   "cell_type": "code",
   "execution_count": 5,
   "id": "ba4c6f57",
   "metadata": {},
   "outputs": [],
   "source": [
    "ME_i = 0.5*m*v_0**2 + m*g*y_0"
   ]
  },
  {
   "cell_type": "markdown",
   "id": "75c397ae",
   "metadata": {},
   "source": [
    "Final mechanical energy"
   ]
  },
  {
   "cell_type": "code",
   "execution_count": 6,
   "id": "df74e3d8",
   "metadata": {},
   "outputs": [],
   "source": [
    "ME_f = 0.5*m*v_f**2 + m*g*y_f "
   ]
  },
  {
   "cell_type": "markdown",
   "id": "d3447fc0",
   "metadata": {},
   "source": [
    "Thermal energy "
   ]
  },
  {
   "cell_type": "code",
   "execution_count": 7,
   "id": "d5be6df5",
   "metadata": {},
   "outputs": [
    {
     "name": "stdout",
     "output_type": "stream",
     "text": [
      "The thermal energy is 29.640  joules\n"
     ]
    }
   ],
   "source": [
    "E_th = ME_i - ME_f\n",
    "print('The thermal energy is ' '%0.3f' %E_th, ' joules')"
   ]
  }
 ],
 "metadata": {
  "kernelspec": {
   "display_name": "Python 3 (ipykernel)",
   "language": "python",
   "name": "python3"
  },
  "language_info": {
   "codemirror_mode": {
    "name": "ipython",
    "version": 3
   },
   "file_extension": ".py",
   "mimetype": "text/x-python",
   "name": "python",
   "nbconvert_exporter": "python",
   "pygments_lexer": "ipython3",
   "version": "3.10.9"
  }
 },
 "nbformat": 4,
 "nbformat_minor": 5
}
