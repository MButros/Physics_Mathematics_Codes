{
 "cells": [
  {
   "cell_type": "markdown",
   "id": "b31ab72c",
   "metadata": {},
   "source": [
    "In this notebook, we will see how to multiply two vectors using:\n",
    "\n",
    "1. Dot (scalar) product\n",
    "2. Cross (vector) product \n",
    "\n",
    "Let us first import needed libraries and define our vectors:"
   ]
  },
  {
   "cell_type": "code",
   "execution_count": 1,
   "id": "8393ab1f",
   "metadata": {},
   "outputs": [],
   "source": [
    "import numpy as np\n",
    "import math "
   ]
  },
  {
   "cell_type": "markdown",
   "id": "999f1c76",
   "metadata": {},
   "source": [
    "Next we define our vectors"
   ]
  },
  {
   "cell_type": "code",
   "execution_count": 2,
   "id": "fcd506cd",
   "metadata": {},
   "outputs": [
    {
     "name": "stdout",
     "output_type": "stream",
     "text": [
      "Vec_A =  [2. 3. 1.]\n",
      "Vec_B =  [-4.  2. -1.]\n"
     ]
    }
   ],
   "source": [
    "Vec_A = np.array([2.00, 3.00, 1.00])\n",
    "Vec_B = np.array([-4.00, 2.00, -1.00])\n",
    "print('Vec_A = ', Vec_A)\n",
    "print('Vec_B = ', Vec_B)"
   ]
  },
  {
   "cell_type": "markdown",
   "id": "c074e8f5",
   "metadata": {},
   "source": [
    "One way of performing the dot product is as follow. \n",
    "\n",
    "Let us define C as the dot product between vectors A and B."
   ]
  },
  {
   "cell_type": "code",
   "execution_count": 3,
   "id": "ad71dfc9",
   "metadata": {},
   "outputs": [
    {
     "name": "stdout",
     "output_type": "stream",
     "text": [
      "The dot product of vectors A and B is\n",
      "C =  -3.0\n"
     ]
    }
   ],
   "source": [
    "C = np.dot(Vec_A,Vec_B)\n",
    "print('The dot product of vectors A and B is')\n",
    "print('C = ', C)"
   ]
  },
  {
   "cell_type": "markdown",
   "id": "3e317d0e",
   "metadata": {},
   "source": [
    "Another way to compute the dot product is as follows"
   ]
  },
  {
   "cell_type": "code",
   "execution_count": 4,
   "id": "b18bf0b5",
   "metadata": {},
   "outputs": [
    {
     "name": "stdout",
     "output_type": "stream",
     "text": [
      "The dot product is \n",
      "D =  -3.0\n"
     ]
    }
   ],
   "source": [
    "D = Vec_A @ Vec_B\n",
    "print('The dot product is ')\n",
    "print('D = ', D)"
   ]
  },
  {
   "cell_type": "markdown",
   "id": "07ada7a8",
   "metadata": {},
   "source": [
    "Now, if we want to know teh angle between the vectors A and B we can do the following:\n",
    "\n",
    "1. Get the magnitude of both vectors\n",
    "2. Compute the cosine of the angle between the two vectors. \n",
    "\n",
    "Then conmpute the arc cosine of that value.\n",
    "\n",
    "Let us get the magnitudes:"
   ]
  },
  {
   "cell_type": "code",
   "execution_count": 5,
   "id": "85ae6e54",
   "metadata": {},
   "outputs": [
    {
     "name": "stdout",
     "output_type": "stream",
     "text": [
      "Magnitude of vector A = 3.742\n",
      "Magnitude of vector B = 4.583\n"
     ]
    }
   ],
   "source": [
    "A_mag = np.linalg.norm(Vec_A)\n",
    "B_mag = np.linalg.norm(Vec_B)\n",
    "print('Magnitude of vector A = ' '%0.3f' % A_mag)\n",
    "print('Magnitude of vector B = ' '%0.3f' % B_mag)"
   ]
  },
  {
   "cell_type": "markdown",
   "id": "aa8f84c0",
   "metadata": {},
   "source": [
    "Now, we calculate the cosine of the angle theta between vectors A and B"
   ]
  },
  {
   "cell_type": "code",
   "execution_count": 6,
   "id": "c3454632",
   "metadata": {},
   "outputs": [
    {
     "name": "stdout",
     "output_type": "stream",
     "text": [
      "The cross product between vectors A and B is\n",
      "V =  [-5. -2. 16.]\n"
     ]
    }
   ],
   "source": [
    "V = np.cross(Vec_A, Vec_B)\n",
    "print('The cross product between vectors A and B is')\n",
    "print('V = ', V)"
   ]
  },
  {
   "cell_type": "markdown",
   "id": "f37c5618",
   "metadata": {},
   "source": [
    "This means that $\\vec{A} \\times \\vec{B}$ is the "
   ]
  }
 ],
 "metadata": {
  "kernelspec": {
   "display_name": "Python 3 (ipykernel)",
   "language": "python",
   "name": "python3"
  },
  "language_info": {
   "codemirror_mode": {
    "name": "ipython",
    "version": 3
   },
   "file_extension": ".py",
   "mimetype": "text/x-python",
   "name": "python",
   "nbconvert_exporter": "python",
   "pygments_lexer": "ipython3",
   "version": "3.10.9"
  }
 },
 "nbformat": 4,
 "nbformat_minor": 5
}
