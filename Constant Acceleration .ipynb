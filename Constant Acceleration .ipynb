{
 "cells": [
  {
   "cell_type": "markdown",
   "id": "9e5fc4c2",
   "metadata": {},
   "source": [
    "In this notebook we will use the constant acceleration equations to solve a problem.\n",
    "\n",
    "First, let us define the given quantities:"
   ]
  },
  {
   "cell_type": "code",
   "execution_count": 1,
   "id": "6913421d",
   "metadata": {},
   "outputs": [],
   "source": [
    "a = 4.0 \t\t# The acceleration in meters per seconds squared\n",
    "x_i = 5.0 \t\t# The position at time t=0 in meters\n",
    "v_i = 15 \t\t# The initial velocity at t=0 in meters per second"
   ]
  },
  {
   "cell_type": "markdown",
   "id": "e08b9019",
   "metadata": {},
   "source": [
    "Now, we find the positio and velocity of the object at $t=2.0$ s."
   ]
  },
  {
   "cell_type": "code",
   "execution_count": 2,
   "id": "f09779f8",
   "metadata": {},
   "outputs": [
    {
     "name": "stdout",
     "output_type": "stream",
     "text": [
      "The position at t=2.0 s is x_f =  43.0 m\n",
      "The velocity at t=2.0 s is v_f =  23.0 m/s^2\n"
     ]
    }
   ],
   "source": [
    "t = 2.0\n",
    "x_f = x_i + v_i*t +(1/2)*a*t**2\n",
    "print('The position at t=2.0 s is x_f = ',x_f, 'm')\n",
    "\n",
    "v_f = v_i + a*t\n",
    "print('The velocity at t=2.0 s is v_f = ',v_f, 'm/s^2')"
   ]
  },
  {
   "cell_type": "markdown",
   "id": "6b70ddac",
   "metadata": {},
   "source": [
    "Next, we find the position when the velocity is 25 m/s"
   ]
  },
  {
   "cell_type": "code",
   "execution_count": 3,
   "id": "e14e3632",
   "metadata": {},
   "outputs": [
    {
     "name": "stdout",
     "output_type": "stream",
     "text": [
      "The object is at 55.0 meters when the speed is 25 m/s.\n"
     ]
    }
   ],
   "source": [
    "v_f2 = 25 #The given speed for part 2\n",
    "x_f2 = x_i +(v_f2**2-v_i**2)/(2*a)\n",
    "print('The object is at', x_f2, 'meters when the speed is 25 m/s.')"
   ]
  },
  {
   "cell_type": "code",
   "execution_count": null,
   "id": "20d11b98",
   "metadata": {},
   "outputs": [],
   "source": []
  }
 ],
 "metadata": {
  "kernelspec": {
   "display_name": "Python 3 (ipykernel)",
   "language": "python",
   "name": "python3"
  },
  "language_info": {
   "codemirror_mode": {
    "name": "ipython",
    "version": 3
   },
   "file_extension": ".py",
   "mimetype": "text/x-python",
   "name": "python",
   "nbconvert_exporter": "python",
   "pygments_lexer": "ipython3",
   "version": "3.10.9"
  }
 },
 "nbformat": 4,
 "nbformat_minor": 5
}
