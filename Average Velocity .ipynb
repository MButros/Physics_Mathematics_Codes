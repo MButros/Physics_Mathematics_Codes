{
 "cells": [
  {
   "cell_type": "markdown",
   "id": "04def072",
   "metadata": {},
   "source": [
    "In this script we describe some characteristics of motion for a moving object. We are given that the motion of the object is given by\n",
    "$$ x(t) = (20 m) + (5.0 m/s^2)t^2 $$"
   ]
  },
  {
   "cell_type": "markdown",
   "id": "45c43a0b",
   "metadata": {},
   "source": [
    "We are asled to find the following:\n",
    "1. The displacement betwen 1 and 2 seconds\n",
    "2. The average velocity during this interval\n",
    "3. Find the instantaneous velocity at 0.1 s, 0.01 s , and 0.001 s\n",
    "4. Find an expression for he instantaneous velocity as a function of time and use it to find the velocity at 1 and 2 seconds."
   ]
  },
  {
   "cell_type": "markdown",
   "id": "951ad304",
   "metadata": {},
   "source": [
    "1. First we will need to import the symbolic library from python to define our function and then find the position of the object at $t = 1.0$ s and $t=2.0$s and find the difference between the positions.  That is find $$\\Delta x = x_2 - x_1$$"
   ]
  },
  {
   "cell_type": "code",
   "execution_count": 1,
   "id": "08d741dc",
   "metadata": {},
   "outputs": [
    {
     "name": "stdout",
     "output_type": "stream",
     "text": [
      "The object after t=1.0 second is at x =  25 m\n",
      "The object after t=2.0 second is at x =  40 m\n"
     ]
    }
   ],
   "source": [
    "from sympy import * \n",
    "init_printing(use_unicode = True)\n",
    "\n",
    "t = symbols('t')\n",
    "x_t = 20 + 5.0*t**2\n",
    "\n",
    "\n",
    "x_1 = x_t.subs(t,1)\n",
    "print('The object after t=1.0 second is at x = ', '%.4g' % x_1, 'm')\n",
    "x_2 = x_t.subs(t,2)\n",
    "print('The object after t=2.0 second is at x = ', '%.4g' % x_2, 'm')"
   ]
  },
  {
   "cell_type": "markdown",
   "id": "e5762f87",
   "metadata": {},
   "source": [
    "The displacement during the 1 second interval is"
   ]
  },
  {
   "cell_type": "code",
   "execution_count": 13,
   "id": "0720f1f8",
   "metadata": {},
   "outputs": [
    {
     "name": "stdout",
     "output_type": "stream",
     "text": [
      "Delta_x = 15 m\n"
     ]
    }
   ],
   "source": [
    "Delta_x = x_2-x_1\n",
    "print('Delta_x = ' '%.3g' % Delta_x, 'm') "
   ]
  },
  {
   "cell_type": "markdown",
   "id": "696077c3",
   "metadata": {},
   "source": [
    "2. The average velocity during this interval is $$v_{avg} = \\frac{x_2-x_1}{t_2-t_1}$$"
   ]
  },
  {
   "cell_type": "code",
   "execution_count": 14,
   "id": "2cc16ed5",
   "metadata": {},
   "outputs": [
    {
     "name": "stdout",
     "output_type": "stream",
     "text": [
      "The average velocity is\n",
      "v_avg =    15 m/s\n"
     ]
    }
   ],
   "source": [
    "v_avg =(x_2 - x_1)/(2-1)\n",
    "print('The average velocity is')\n",
    "print('v_avg = ', '%4g' % v_avg, 'm/s')"
   ]
  },
  {
   "cell_type": "markdown",
   "id": "8a7b52a0",
   "metadata": {},
   "source": [
    "With $\\Delta t = 0.1$s the timeinterval is from 1 second to 1.1 second.  At $t_2 = 1.1$s the position is "
   ]
  },
  {
   "cell_type": "code",
   "execution_count": 15,
   "id": "ed5245f5",
   "metadata": {},
   "outputs": [
    {
     "name": "stdout",
     "output_type": "stream",
     "text": [
      "The object after t=1.1 second is at x =  26.05 m\n"
     ]
    }
   ],
   "source": [
    "x_2 = x_t.subs(t,1.1)\n",
    "print('The object after t=1.1 second is at x = ', '%.4g' % x_2, 'm')"
   ]
  },
  {
   "cell_type": "markdown",
   "id": "23926f08",
   "metadata": {},
   "source": [
    "3. The average velocity during this 0.1 s interval is $$v_{avg} = \\frac{x_2-x_1}{0.1}$$"
   ]
  },
  {
   "cell_type": "code",
   "execution_count": 16,
   "id": "4476688b",
   "metadata": {},
   "outputs": [
    {
     "name": "stdout",
     "output_type": "stream",
     "text": [
      "v_avg =  10.5 m/s\n"
     ]
    }
   ],
   "source": [
    "v_avg = (x_2 - x_1)/(0.1)\n",
    "print('v_avg = ', '%4g' % v_avg, 'm/s')"
   ]
  },
  {
   "cell_type": "markdown",
   "id": "8d0d0b5b",
   "metadata": {},
   "source": [
    "For the case when \n",
    "$\\Delta t=0.01$s and $\\Delta t=0.001\n",
    " we do similar steps as follows"
   ]
  }
 ],
 "metadata": {
  "kernelspec": {
   "display_name": "Python 3 (ipykernel)",
   "language": "python",
   "name": "python3"
  },
  "language_info": {
   "codemirror_mode": {
    "name": "ipython",
    "version": 3
   },
   "file_extension": ".py",
   "mimetype": "text/x-python",
   "name": "python",
   "nbconvert_exporter": "python",
   "pygments_lexer": "ipython3",
   "version": "3.10.9"
  }
 },
 "nbformat": 4,
 "nbformat_minor": 5
}
