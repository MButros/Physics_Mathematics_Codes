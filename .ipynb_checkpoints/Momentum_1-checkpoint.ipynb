{
 "cells": [
  {
   "cell_type": "markdown",
   "id": "0dc3e0a2",
   "metadata": {},
   "source": [
    "Momentum problem with one mass breaking into two pieces.  We want to find the velocity of the second piece after collision."
   ]
  },
  {
   "cell_type": "code",
   "execution_count": 1,
   "id": "57d32452",
   "metadata": {},
   "outputs": [],
   "source": [
    "import numpy as np\n",
    "import math"
   ]
  },
  {
   "cell_type": "markdown",
   "id": "89a17e9b",
   "metadata": {},
   "source": [
    "Before Collision"
   ]
  },
  {
   "cell_type": "code",
   "execution_count": 2,
   "id": "9507e285",
   "metadata": {},
   "outputs": [],
   "source": [
    "m = 6.0 # in kg\n",
    "v = 4.0 # in m/s"
   ]
  },
  {
   "cell_type": "markdown",
   "id": "674fc097",
   "metadata": {},
   "source": [
    "After collision"
   ]
  },
  {
   "cell_type": "code",
   "execution_count": 3,
   "id": "3d5e24e6",
   "metadata": {},
   "outputs": [],
   "source": [
    "m1 = 2 # in kg\n",
    "v1 = 8.0 # in m/s"
   ]
  },
  {
   "cell_type": "code",
   "execution_count": 4,
   "id": "ad6e3f6a",
   "metadata": {},
   "outputs": [
    {
     "name": "stdout",
     "output_type": "stream",
     "text": [
      "The velocity of piece having mass m2 is 2.000 meters per second.\n"
     ]
    }
   ],
   "source": [
    "m2 = m - m1 \n",
    "v2 = (m*v-m1*v1)/m2\n",
    "print('The velocity of piece having mass m2 is ' '%0.3f' % v2, 'meters per second.')\n"
   ]
  },
  {
   "cell_type": "code",
   "execution_count": null,
   "id": "99471161",
   "metadata": {},
   "outputs": [],
   "source": []
  }
 ],
 "metadata": {
  "kernelspec": {
   "display_name": "Python 3 (ipykernel)",
   "language": "python",
   "name": "python3"
  },
  "language_info": {
   "codemirror_mode": {
    "name": "ipython",
    "version": 3
   },
   "file_extension": ".py",
   "mimetype": "text/x-python",
   "name": "python",
   "nbconvert_exporter": "python",
   "pygments_lexer": "ipython3",
   "version": "3.10.9"
  }
 },
 "nbformat": 4,
 "nbformat_minor": 5
}
