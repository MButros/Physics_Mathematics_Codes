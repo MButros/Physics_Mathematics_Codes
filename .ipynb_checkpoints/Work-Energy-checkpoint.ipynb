{
 "cells": [
  {
   "cell_type": "markdown",
   "id": "9825cc9f",
   "metadata": {},
   "source": [
    "Example of the Work-Energy Theorem"
   ]
  },
  {
   "cell_type": "markdown",
   "id": "48e56a06",
   "metadata": {},
   "source": [
    "Initialize some variables"
   ]
  },
  {
   "cell_type": "code",
   "execution_count": 1,
   "id": "8b301048",
   "metadata": {},
   "outputs": [],
   "source": [
    "import math \n",
    "import numpy as np\n",
    "m = 225 # in kg\n",
    "disp = 8.5 # displacement in m \n",
    "F_1 = 12 # force 1 in N\n",
    "theta_1 = 30*np.pi/180 # angle of force 1 in rad \n",
    "F_2 = 10 \n",
    "theta_2 = 40*np.pi/180"
   ]
  },
  {
   "cell_type": "markdown",
   "id": "bd8b270e",
   "metadata": {},
   "source": [
    "The done by each force in the horizontal direction"
   ]
  },
  {
   "cell_type": "code",
   "execution_count": 8,
   "id": "ffdf2a5f",
   "metadata": {},
   "outputs": [],
   "source": [
    "W_1 = F_1 * disp * np.cos(theta_1)\n",
    "W_2 = F_2 * disp * np.cos(theta_2)"
   ]
  },
  {
   "cell_type": "markdown",
   "id": "fd239ef6",
   "metadata": {},
   "source": [
    "The net work "
   ]
  },
  {
   "cell_type": "code",
   "execution_count": 9,
   "id": "87e1d389",
   "metadata": {},
   "outputs": [],
   "source": [
    "W_tot = W_1 + W_2"
   ]
  },
  {
   "cell_type": "code",
   "execution_count": 10,
   "id": "b732e067",
   "metadata": {},
   "outputs": [
    {
     "name": "stdout",
     "output_type": "stream",
     "text": [
      "The total work done by moving the object a displacement of 8.5 meters \n",
      " is 153.448  joules\n"
     ]
    }
   ],
   "source": [
    "print('The total work done by moving the object a displacement of 8.5 meters \\n is ' '%0.3f ' % W_tot ,'joules')"
   ]
  },
  {
   "cell_type": "markdown",
   "id": "e9307358",
   "metadata": {},
   "source": [
    "Using the work-energy theorem we can find the final velocity of the object\n",
    "$$ W = K_f - K_i $$\n",
    "Since $K_i = 0 $\n",
    "$$K_f = \\frac{1}{2} m v_f^2$$"
   ]
  },
  {
   "cell_type": "code",
   "execution_count": 11,
   "id": "06f0886d",
   "metadata": {},
   "outputs": [],
   "source": [
    "v_f = math.sqrt(2*W_tot/m)"
   ]
  },
  {
   "cell_type": "code",
   "execution_count": 12,
   "id": "a2bf74c5",
   "metadata": {},
   "outputs": [
    {
     "name": "stdout",
     "output_type": "stream",
     "text": [
      "The final velocity of the object at the end of the displacement \n",
      " is 1.168  meters per second\n"
     ]
    }
   ],
   "source": [
    "print('The final velocity of the object at the end of the displacement \\n is ' '%0.3f ' %v_f ,'meters per second')"
   ]
  },
  {
   "cell_type": "code",
   "execution_count": null,
   "id": "698cf3e4",
   "metadata": {},
   "outputs": [],
   "source": []
  }
 ],
 "metadata": {
  "kernelspec": {
   "display_name": "Python 3 (ipykernel)",
   "language": "python",
   "name": "python3"
  },
  "language_info": {
   "codemirror_mode": {
    "name": "ipython",
    "version": 3
   },
   "file_extension": ".py",
   "mimetype": "text/x-python",
   "name": "python",
   "nbconvert_exporter": "python",
   "pygments_lexer": "ipython3",
   "version": "3.10.11"
  }
 },
 "nbformat": 4,
 "nbformat_minor": 5
}
