{
 "cells": [
  {
   "cell_type": "markdown",
   "id": "694485f7",
   "metadata": {},
   "source": [
    "Find the tension in the cord if the block is at equilibrium.\n",
    "\n",
    "Find the acceleration of the block if the cord is cut."
   ]
  },
  {
   "attachments": {
    "Example5_7_FBD.jpg": {
     "image/jpeg": "[encoded data removed]"
    }
   },
   "cell_type": "markdown",
   "id": "8a0d6a4b",
   "metadata": {},
   "source": [
    "![Example5_7_FBD.jpg](attachment:Example5_7_FBD.jpg)"
   ]
  },
  {
   "cell_type": "markdown",
   "id": "25f1bcf1",
   "metadata": {},
   "source": [
    "Initialize some variables"
   ]
  },
  {
   "cell_type": "code",
   "execution_count": 5,
   "id": "eb4cf353",
   "metadata": {},
   "outputs": [],
   "source": [
    "import numpy as np\n",
    "g = 9.8 # m/s^2\n",
    "m = 15 # kg"
   ]
  },
  {
   "cell_type": "markdown",
   "id": "dd43da28",
   "metadata": {},
   "source": [
    "The sum of the forces on the block in the x direction along the incline \n",
    "$$ T - mg\\sin(27) = ma $$\n",
    "\n",
    "The sum of the forces on the block in the y direction \n",
    "$$ N - mg\\cos(27) = 0$$"
   ]
  },
  {
   "cell_type": "markdown",
   "id": "50712559",
   "metadata": {},
   "source": [
    "Before the cord is cut, the block is not accelerating.  Therefore\n",
    "$$ T - mg\\sin(27) = 0$$ and "
   ]
  },
  {
   "cell_type": "code",
   "execution_count": 8,
   "id": "5f644f27",
   "metadata": {},
   "outputs": [],
   "source": [
    "T = m*g*np.sin(27*np.pi/180)\n",
    "print('The tension in the stationary cord is ' '%0.3f' % T, 'newtons' )"
   ]
  },
  {
   "cell_type": "code",
   "execution_count": 9,
   "id": "74f29cfb",
   "metadata": {},
   "outputs": [
    {
     "name": "stdout",
     "output_type": "stream",
     "text": [
      "The tension in the stationary cord is 66.737 newtons\n"
     ]
    }
   ],
   "source": []
  },
  {
   "cell_type": "code",
   "execution_count": 10,
   "id": "989235f5",
   "metadata": {},
   "outputs": [
    {
     "name": "stdout",
     "output_type": "stream",
     "text": [
      "The normal force on the block is 130.978 newtons\n"
     ]
    }
   ],
   "source": [
    "N = m*g*np.cos(27*np.pi/180)\n",
    "print('The normal force on the block is ' '%0.3f' % N, 'newtons' )"
   ]
  },
  {
   "cell_type": "markdown",
   "id": "32352928",
   "metadata": {},
   "source": [
    "Once the cord is cut, the sum of the forces on the block \n",
    "$$ T - mg\\sin(27) = ma $$\n",
    "which means $T=0$ and"
   ]
  },
  {
   "cell_type": "code",
   "execution_count": 14,
   "id": "5cf2125f",
   "metadata": {},
   "outputs": [
    {
     "name": "stdout",
     "output_type": "stream",
     "text": [
      "The acceleration of the block after cord is cut is -4.449 meters per second squared\n"
     ]
    }
   ],
   "source": [
    "a = -g * np.sin(27*np.pi/180)\n",
    "print('The acceleration of the block after cord is cut is ' '%0.3f' % a, 'meters per second squared')"
   ]
  },
  {
   "cell_type": "markdown",
   "id": "24a08e41",
   "metadata": {},
   "source": [
    "NOTE: the negative sign indicates the acceleration is in the opposite direction of T."
   ]
  },
  {
   "cell_type": "code",
   "execution_count": null,
   "id": "3144e851",
   "metadata": {},
   "outputs": [],
   "source": []
  }
 ],
 "metadata": {
  "kernelspec": {
   "display_name": "Python 3 (ipykernel)",
   "language": "python",
   "name": "python3"
  },
  "language_info": {
   "codemirror_mode": {
    "name": "ipython",
    "version": 3
   },
   "file_extension": ".py",
   "mimetype": "text/x-python",
   "name": "python",
   "nbconvert_exporter": "python",
   "pygments_lexer": "ipython3",
   "version": "3.10.9"
  }
 },
 "nbformat": 4,
 "nbformat_minor": 5
}
