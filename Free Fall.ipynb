{
 "cells": [
  {
   "cell_type": "markdown",
   "id": "4a30e866",
   "metadata": {},
   "source": [
    "In this notebook we will solve a free fall problem without air friction (we will look at the case with air friction in the computational project)\n",
    "\n",
    "We start by defining our given quantities:"
   ]
  },
  {
   "cell_type": "code",
   "execution_count": 1,
   "id": "ea4e1100",
   "metadata": {},
   "outputs": [],
   "source": [
    "import numpy as np\n",
    "import math\n",
    "\n",
    "y_i = 0.0 \t\t# Distance dropped by the object at t=0\n",
    "v_i = 0.0 \t\t# Object released from rest, initial velocity is zero\n",
    "a = -9.8 \t\t# The acceleration due to gravity \"g\""
   ]
  },
  {
   "cell_type": "markdown",
   "id": "aa0aa089",
   "metadata": {},
   "source": [
    "The position of the object while dropping can be given using\n",
    "\n",
    "$$ y_f = y_i + v_it +\\frac{1}{2} at^2 $$\n",
    "\n",
    "since we are asked to find the location at three consecutive times we can use a for loop to compute those drop values."
   ]
  },
  {
   "cell_type": "code",
   "execution_count": 2,
   "id": "ab29e6c6",
   "metadata": {},
   "outputs": [
    {
     "name": "stdout",
     "output_type": "stream",
     "text": [
      "The object has dropped 4.9 meters after t =  1 seconds\n",
      "The object has dropped 19.6 meters after t =  2 seconds\n",
      "The object has dropped 44.1 meters after t =  3 seconds\n"
     ]
    }
   ],
   "source": [
    "t = 0 \n",
    "for t in [1,2,3]:\n",
    "\ty_f = y_i+v_i*t+(1/2)*a*t**2\n",
    "\tprint('The object has dropped', np.abs(y_f), 'meters after t = ', t, 'seconds')"
   ]
  },
  {
   "cell_type": "markdown",
   "id": "4062cd2a",
   "metadata": {},
   "source": [
    "Now let us look at a situation where the object is thrown upward with an initial velocity,$v_0$."
   ]
  },
  {
   "cell_type": "code",
   "execution_count": 3,
   "id": "619c244e",
   "metadata": {},
   "outputs": [],
   "source": [
    "v_0 = 15.0 \t\t# Initial spped with which object is thrown upward in m/s.\n",
    "y_0 = 0 \t\t# Initial heigh of object at t=0 (does not have to be zero all the time)\n",
    "g = -9.8 \t\t# The acceleration due to gravity "
   ]
  },
  {
   "cell_type": "markdown",
   "id": "f40fd6db",
   "metadata": {},
   "source": [
    "Let us first find he position and velocity of the object after 1.0 s and 4.0 s using the constant acceleration equation above and the velocity can be given by $$ v_f = v_0 +gt $$"
   ]
  },
  {
   "cell_type": "code",
   "execution_count": 8,
   "id": "e8493463",
   "metadata": {},
   "outputs": [
    {
     "name": "stdout",
     "output_type": "stream",
     "text": [
      "The object is at10.100 m after t=1 second\n",
      "The object has a velocity of 5.200 m/s after t = 1 second\n",
      "The object is at -18.400 m after t=4 seconds\n",
      "The object has a velocity of -24.200 m/s after t = 4 second\n"
     ]
    }
   ],
   "source": [
    "# define y_1, y_4, v_1, and v_4 as the value of the position and velocity at t=1 and t=4 seconds respectively\n",
    "t_1 = 1        \n",
    "t_4 = 4\n",
    "y_1 = y_0 +v_0*t_1 +(1/2)*g*t_1**2\n",
    "print('The object is at' '%0.3f' %  y_1, 'm after t=1 second')\n",
    "v_1 = v_0 + g*t_1\n",
    "print('The object has a velocity of ' '%0.3f' % v_1, 'm/s after t = 1 second')\n",
    "y_4 = y_0 +v_0*t_4 +(0.5)*g*t_4**2\n",
    "print('The object is at ' '%0.3f' %  y_4, 'm after t=4 seconds')\n",
    "v_4 = v_0 + g*t_4\n",
    "print('The object has a velocity of ' '%0.3f' %  v_4, 'm/s after t = 4 second')"
   ]
  },
  {
   "cell_type": "code",
   "execution_count": null,
   "id": "153c8006",
   "metadata": {},
   "outputs": [],
   "source": []
  }
 ],
 "metadata": {
  "kernelspec": {
   "display_name": "Python 3 (ipykernel)",
   "language": "python",
   "name": "python3"
  },
  "language_info": {
   "codemirror_mode": {
    "name": "ipython",
    "version": 3
   },
   "file_extension": ".py",
   "mimetype": "text/x-python",
   "name": "python",
   "nbconvert_exporter": "python",
   "pygments_lexer": "ipython3",
   "version": "3.10.9"
  }
 },
 "nbformat": 4,
 "nbformat_minor": 5
}
