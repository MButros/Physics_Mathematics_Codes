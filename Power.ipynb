{
 "cells": [
  {
   "cell_type": "markdown",
   "id": "77b91627",
   "metadata": {},
   "source": [
    "Example for finding the power for different forces"
   ]
  },
  {
   "cell_type": "markdown",
   "id": "fc92a53d",
   "metadata": {},
   "source": [
    "Initialize "
   ]
  },
  {
   "cell_type": "code",
   "execution_count": 1,
   "id": "dbfddad2",
   "metadata": {},
   "outputs": [],
   "source": [
    "import math \n",
    "import numpy as np"
   ]
  },
  {
   "cell_type": "markdown",
   "id": "2fa9b5cd",
   "metadata": {},
   "source": [
    "Define the force and velocities"
   ]
  },
  {
   "cell_type": "code",
   "execution_count": 2,
   "id": "c2a6f80f",
   "metadata": {},
   "outputs": [],
   "source": [
    "F_1 = np.array([-2, 0]) # in N\n",
    "v = np.array([3,0]) # in m/s\n",
    "x = np.array([4,6])\n",
    "F_24 = np.array([x[0]*np.cos(60*np.pi/180),x[0]*np.sin(60*np.pi/180)])\n",
    "F_26 = np.array([x[1]*np.cos(60*np.pi/180),x[1]*np.sin(60*np.pi/180)])"
   ]
  },
  {
   "cell_type": "markdown",
   "id": "916ad476",
   "metadata": {},
   "source": [
    "Calculating the power"
   ]
  },
  {
   "cell_type": "code",
   "execution_count": 3,
   "id": "36ca6c3b",
   "metadata": {},
   "outputs": [],
   "source": [
    "P_1 = np.dot(F_1,np.transpose(v))\n",
    "P_24 = np.dot(F_24,np.transpose(v))\n",
    "P_26 = np.dot(F_26, np.transpose(v))\n",
    "P_tot4 = P_1+P_24\n",
    "P_tot6 = P_1 + P_26"
   ]
  },
  {
   "cell_type": "code",
   "execution_count": 4,
   "id": "294c474c",
   "metadata": {},
   "outputs": [
    {
     "name": "stdout",
     "output_type": "stream",
     "text": [
      "The power transferred by F_1 is: -6.000 watts\n",
      "The power transferred by F_2 at x=4 is: 6.000 watts\n",
      "The power transferred by F_2 at x= 6 is: 9.000 watts\n"
     ]
    }
   ],
   "source": [
    "print('The power transferred by F_1 is: ' '%0.3f' % P_1, 'watts')\n",
    "print('The power transferred by F_2 at x=4 is: ' '%0.3f' % P_24, 'watts')\n",
    "print('The power transferred by F_2 at x= 6 is: ' '%0.3f' % P_26, 'watts')\n"
   ]
  },
  {
   "cell_type": "markdown",
   "id": "34f90090",
   "metadata": {},
   "source": [
    "Apply the work-energy theorem"
   ]
  },
  {
   "cell_type": "code",
   "execution_count": 5,
   "id": "d53ddfdb",
   "metadata": {},
   "outputs": [],
   "source": [
    "P_net1 = P_1 + P_24 \n",
    "P_net2 = P_1 + P_26"
   ]
  },
  {
   "cell_type": "code",
   "execution_count": 14,
   "id": "3c6edd38",
   "metadata": {},
   "outputs": [
    {
     "name": "stdout",
     "output_type": "stream",
     "text": [
      "The net power at x = 4 is 0.000000 watts\n"
     ]
    }
   ],
   "source": [
    "print('The net power at x = 4 is ' '%f' % P_net1, 'watts')"
   ]
  },
  {
   "cell_type": "code",
   "execution_count": 15,
   "id": "e9310ae9",
   "metadata": {},
   "outputs": [
    {
     "name": "stdout",
     "output_type": "stream",
     "text": [
      "The net power at x = 6 is 3.000 watts\n"
     ]
    }
   ],
   "source": [
    "print('The net power at x = 6 is ' '%0.3f' % P_net2, 'watts')"
   ]
  },
  {
   "cell_type": "markdown",
   "id": "4f69999f",
   "metadata": {},
   "source": [
    "Since the net power at $x=4$ is 0, the kinetic energy there is not changing.\n",
    "\n",
    "Since the net power at $x=6$ is not equal to 0, the kinetic energy there is changing."
   ]
  },
  {
   "cell_type": "code",
   "execution_count": null,
   "id": "bef230b0",
   "metadata": {},
   "outputs": [],
   "source": []
  }
 ],
 "metadata": {
  "kernelspec": {
   "display_name": "Python 3 (ipykernel)",
   "language": "python",
   "name": "python3"
  },
  "language_info": {
   "codemirror_mode": {
    "name": "ipython",
    "version": 3
   },
   "file_extension": ".py",
   "mimetype": "text/x-python",
   "name": "python",
   "nbconvert_exporter": "python",
   "pygments_lexer": "ipython3",
   "version": "3.10.11"
  }
 },
 "nbformat": 4,
 "nbformat_minor": 5
}
