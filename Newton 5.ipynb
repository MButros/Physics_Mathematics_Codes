{
 "cells": [
  {
   "cell_type": "markdown",
   "id": "033e230b",
   "metadata": {},
   "source": [
    "Example of Newton's law on circular motion"
   ]
  },
  {
   "cell_type": "markdown",
   "id": "41410af6",
   "metadata": {},
   "source": [
    "Initilize some variables"
   ]
  },
  {
   "cell_type": "code",
   "execution_count": 4,
   "id": "6decb475",
   "metadata": {},
   "outputs": [],
   "source": [
    "import math \n",
    "import numpy as np\n",
    "g = 9.8   # in m/s^2\n",
    "m = 1600  # in kg\n",
    "v_c = 20 # constant velocity in m/s\n",
    "R = 190 # radius m "
   ]
  },
  {
   "cell_type": "markdown",
   "id": "04077e4d",
   "metadata": {},
   "source": [
    "Sum of the forces give\n",
    "$$ N - mg = 0 $$ \n",
    "$$f_s = ma = \\frac{mv^2}{R} $$\n"
   ]
  },
  {
   "cell_type": "code",
   "execution_count": 7,
   "id": "9468eac2",
   "metadata": {},
   "outputs": [],
   "source": [
    "N = m * g \n",
    "f_s = m * v_c**2 /R \n",
    "mu_s = f_s/N"
   ]
  },
  {
   "cell_type": "code",
   "execution_count": 8,
   "id": "c50ae3ee",
   "metadata": {},
   "outputs": [
    {
     "name": "stdout",
     "output_type": "stream",
     "text": [
      "The coefficient of static friction is 0.215 \n"
     ]
    }
   ],
   "source": [
    "print('The coefficient of static friction is ' '%0.3f ' % mu_s)"
   ]
  },
  {
   "cell_type": "code",
   "execution_count": null,
   "id": "4a842d55",
   "metadata": {},
   "outputs": [],
   "source": []
  }
 ],
 "metadata": {
  "kernelspec": {
   "display_name": "Python 3 (ipykernel)",
   "language": "python",
   "name": "python3"
  },
  "language_info": {
   "codemirror_mode": {
    "name": "ipython",
    "version": 3
   },
   "file_extension": ".py",
   "mimetype": "text/x-python",
   "name": "python",
   "nbconvert_exporter": "python",
   "pygments_lexer": "ipython3",
   "version": "3.10.11"
  }
 },
 "nbformat": 4,
 "nbformat_minor": 5
}
